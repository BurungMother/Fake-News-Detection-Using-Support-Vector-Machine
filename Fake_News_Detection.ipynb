{
  "cells": [
    {
      "cell_type": "markdown",
      "metadata": {
        "id": "view-in-github",
        "colab_type": "text"
      },
      "source": [
        "<a href=\"https://colab.research.google.com/github/JasonPrat/Fake-News-Detection-Using-Support-Vector-Machine/blob/main/Fake_News_Detection.ipynb\" target=\"_parent\"><img src=\"https://colab.research.google.com/assets/colab-badge.svg\" alt=\"Open In Colab\"/></a>"
      ]
    },
    {
      "cell_type": "markdown",
      "source": [
        "Fake News Detection"
      ],
      "metadata": {
        "id": "ZOaKVJTgug4j"
      }
    },
    {
      "cell_type": "code",
      "execution_count": 1,
      "metadata": {
        "id": "f6Lz9Sw2TXVu"
      },
      "outputs": [],
      "source": [
        "import pandas as pd\n",
        "import numpy as np\n",
        "\n",
        "from sklearn.metrics import accuracy_score, mean_squared_error, mean_absolute_error\n",
        "from sklearn import svm, metrics\n",
        "from sklearn.model_selection import train_test_split\n",
        "from sklearn.feature_extraction.text import CountVectorizer, TfidfVectorizer, HashingVectorizer"
      ]
    },
    {
      "cell_type": "code",
      "execution_count": 2,
      "metadata": {
        "colab": {
          "base_uri": "https://localhost:8080/"
        },
        "id": "tkFF19WkTenm",
        "outputId": "579fd2bb-99e7-4b97-873f-8c76a458e6bd"
      },
      "outputs": [
        {
          "output_type": "stream",
          "name": "stdout",
          "text": [
            "--2022-05-29 02:01:24--  https://raw.githubusercontent.com/JasonPrat/Fake-News-Detection-Using-Support-Vector-Machine/main/train.csv\n",
            "Resolving raw.githubusercontent.com (raw.githubusercontent.com)... 185.199.108.133, 185.199.109.133, 185.199.110.133, ...\n",
            "Connecting to raw.githubusercontent.com (raw.githubusercontent.com)|185.199.108.133|:443... connected.\n",
            "HTTP request sent, awaiting response... 200 OK\n",
            "Length: 98628550 (94M) [text/plain]\n",
            "Saving to: ‘train.csv’\n",
            "\n",
            "train.csv           100%[===================>]  94.06M   162MB/s    in 0.6s    \n",
            "\n",
            "2022-05-29 02:01:26 (162 MB/s) - ‘train.csv’ saved [98628550/98628550]\n",
            "\n"
          ]
        }
      ],
      "source": [
        "!wget https://raw.githubusercontent.com/JasonPrat/Fake-News-Detection-Using-Support-Vector-Machine/main/train.csv"
      ]
    },
    {
      "cell_type": "markdown",
      "metadata": {
        "id": "c_6iLqHIAK-j"
      },
      "source": [
        "Create Dataframe"
      ]
    },
    {
      "cell_type": "code",
      "execution_count": 3,
      "metadata": {
        "id": "ha1RLTY7eM_0"
      },
      "outputs": [],
      "source": [
        "df = pd.read_csv ('train.csv')"
      ]
    },
    {
      "cell_type": "code",
      "execution_count": 4,
      "metadata": {
        "id": "yblmcxgEhm4S"
      },
      "outputs": [],
      "source": [
        "df = df.dropna()\n",
        "msg=df.copy()\n",
        "msg.reset_index (inplace=True)"
      ]
    },
    {
      "cell_type": "markdown",
      "metadata": {
        "id": "TBnuP_giAS_5"
      },
      "source": [
        "Load Dataframe"
      ]
    },
    {
      "cell_type": "code",
      "execution_count": 5,
      "metadata": {
        "colab": {
          "base_uri": "https://localhost:8080/",
          "height": 206
        },
        "id": "RZvwdkBWh_X8",
        "outputId": "e770e229-da79-4a45-bb8f-ab4cdae7d462"
      },
      "outputs": [
        {
          "output_type": "execute_result",
          "data": {
            "text/plain": [
              "   id                                              title              author  \\\n",
              "0   0  House Dem Aide: We Didn’t Even See Comey’s Let...       Darrell Lucus   \n",
              "1   1  FLYNN: Hillary Clinton, Big Woman on Campus - ...     Daniel J. Flynn   \n",
              "2   2                  Why the Truth Might Get You Fired  Consortiumnews.com   \n",
              "3   3  15 Civilians Killed In Single US Airstrike Hav...     Jessica Purkiss   \n",
              "4   4  Iranian woman jailed for fictional unpublished...      Howard Portnoy   \n",
              "\n",
              "                                                text  label  \n",
              "0  House Dem Aide: We Didn’t Even See Comey’s Let...      1  \n",
              "1  Ever get the feeling your life circles the rou...      0  \n",
              "2  Why the Truth Might Get You Fired October 29, ...      1  \n",
              "3  Videos 15 Civilians Killed In Single US Airstr...      1  \n",
              "4  Print \\nAn Iranian woman has been sentenced to...      1  "
            ],
            "text/html": [
              "\n",
              "  <div id=\"df-03a4a2eb-4206-4ec0-8211-4a6918fa864c\">\n",
              "    <div class=\"colab-df-container\">\n",
              "      <div>\n",
              "<style scoped>\n",
              "    .dataframe tbody tr th:only-of-type {\n",
              "        vertical-align: middle;\n",
              "    }\n",
              "\n",
              "    .dataframe tbody tr th {\n",
              "        vertical-align: top;\n",
              "    }\n",
              "\n",
              "    .dataframe thead th {\n",
              "        text-align: right;\n",
              "    }\n",
              "</style>\n",
              "<table border=\"1\" class=\"dataframe\">\n",
              "  <thead>\n",
              "    <tr style=\"text-align: right;\">\n",
              "      <th></th>\n",
              "      <th>id</th>\n",
              "      <th>title</th>\n",
              "      <th>author</th>\n",
              "      <th>text</th>\n",
              "      <th>label</th>\n",
              "    </tr>\n",
              "  </thead>\n",
              "  <tbody>\n",
              "    <tr>\n",
              "      <th>0</th>\n",
              "      <td>0</td>\n",
              "      <td>House Dem Aide: We Didn’t Even See Comey’s Let...</td>\n",
              "      <td>Darrell Lucus</td>\n",
              "      <td>House Dem Aide: We Didn’t Even See Comey’s Let...</td>\n",
              "      <td>1</td>\n",
              "    </tr>\n",
              "    <tr>\n",
              "      <th>1</th>\n",
              "      <td>1</td>\n",
              "      <td>FLYNN: Hillary Clinton, Big Woman on Campus - ...</td>\n",
              "      <td>Daniel J. Flynn</td>\n",
              "      <td>Ever get the feeling your life circles the rou...</td>\n",
              "      <td>0</td>\n",
              "    </tr>\n",
              "    <tr>\n",
              "      <th>2</th>\n",
              "      <td>2</td>\n",
              "      <td>Why the Truth Might Get You Fired</td>\n",
              "      <td>Consortiumnews.com</td>\n",
              "      <td>Why the Truth Might Get You Fired October 29, ...</td>\n",
              "      <td>1</td>\n",
              "    </tr>\n",
              "    <tr>\n",
              "      <th>3</th>\n",
              "      <td>3</td>\n",
              "      <td>15 Civilians Killed In Single US Airstrike Hav...</td>\n",
              "      <td>Jessica Purkiss</td>\n",
              "      <td>Videos 15 Civilians Killed In Single US Airstr...</td>\n",
              "      <td>1</td>\n",
              "    </tr>\n",
              "    <tr>\n",
              "      <th>4</th>\n",
              "      <td>4</td>\n",
              "      <td>Iranian woman jailed for fictional unpublished...</td>\n",
              "      <td>Howard Portnoy</td>\n",
              "      <td>Print \\nAn Iranian woman has been sentenced to...</td>\n",
              "      <td>1</td>\n",
              "    </tr>\n",
              "  </tbody>\n",
              "</table>\n",
              "</div>\n",
              "      <button class=\"colab-df-convert\" onclick=\"convertToInteractive('df-03a4a2eb-4206-4ec0-8211-4a6918fa864c')\"\n",
              "              title=\"Convert this dataframe to an interactive table.\"\n",
              "              style=\"display:none;\">\n",
              "        \n",
              "  <svg xmlns=\"http://www.w3.org/2000/svg\" height=\"24px\"viewBox=\"0 0 24 24\"\n",
              "       width=\"24px\">\n",
              "    <path d=\"M0 0h24v24H0V0z\" fill=\"none\"/>\n",
              "    <path d=\"M18.56 5.44l.94 2.06.94-2.06 2.06-.94-2.06-.94-.94-2.06-.94 2.06-2.06.94zm-11 1L8.5 8.5l.94-2.06 2.06-.94-2.06-.94L8.5 2.5l-.94 2.06-2.06.94zm10 10l.94 2.06.94-2.06 2.06-.94-2.06-.94-.94-2.06-.94 2.06-2.06.94z\"/><path d=\"M17.41 7.96l-1.37-1.37c-.4-.4-.92-.59-1.43-.59-.52 0-1.04.2-1.43.59L10.3 9.45l-7.72 7.72c-.78.78-.78 2.05 0 2.83L4 21.41c.39.39.9.59 1.41.59.51 0 1.02-.2 1.41-.59l7.78-7.78 2.81-2.81c.8-.78.8-2.07 0-2.86zM5.41 20L4 18.59l7.72-7.72 1.47 1.35L5.41 20z\"/>\n",
              "  </svg>\n",
              "      </button>\n",
              "      \n",
              "  <style>\n",
              "    .colab-df-container {\n",
              "      display:flex;\n",
              "      flex-wrap:wrap;\n",
              "      gap: 12px;\n",
              "    }\n",
              "\n",
              "    .colab-df-convert {\n",
              "      background-color: #E8F0FE;\n",
              "      border: none;\n",
              "      border-radius: 50%;\n",
              "      cursor: pointer;\n",
              "      display: none;\n",
              "      fill: #1967D2;\n",
              "      height: 32px;\n",
              "      padding: 0 0 0 0;\n",
              "      width: 32px;\n",
              "    }\n",
              "\n",
              "    .colab-df-convert:hover {\n",
              "      background-color: #E2EBFA;\n",
              "      box-shadow: 0px 1px 2px rgba(60, 64, 67, 0.3), 0px 1px 3px 1px rgba(60, 64, 67, 0.15);\n",
              "      fill: #174EA6;\n",
              "    }\n",
              "\n",
              "    [theme=dark] .colab-df-convert {\n",
              "      background-color: #3B4455;\n",
              "      fill: #D2E3FC;\n",
              "    }\n",
              "\n",
              "    [theme=dark] .colab-df-convert:hover {\n",
              "      background-color: #434B5C;\n",
              "      box-shadow: 0px 1px 3px 1px rgba(0, 0, 0, 0.15);\n",
              "      filter: drop-shadow(0px 1px 2px rgba(0, 0, 0, 0.3));\n",
              "      fill: #FFFFFF;\n",
              "    }\n",
              "  </style>\n",
              "\n",
              "      <script>\n",
              "        const buttonEl =\n",
              "          document.querySelector('#df-03a4a2eb-4206-4ec0-8211-4a6918fa864c button.colab-df-convert');\n",
              "        buttonEl.style.display =\n",
              "          google.colab.kernel.accessAllowed ? 'block' : 'none';\n",
              "\n",
              "        async function convertToInteractive(key) {\n",
              "          const element = document.querySelector('#df-03a4a2eb-4206-4ec0-8211-4a6918fa864c');\n",
              "          const dataTable =\n",
              "            await google.colab.kernel.invokeFunction('convertToInteractive',\n",
              "                                                     [key], {});\n",
              "          if (!dataTable) return;\n",
              "\n",
              "          const docLinkHtml = 'Like what you see? Visit the ' +\n",
              "            '<a target=\"_blank\" href=https://colab.research.google.com/notebooks/data_table.ipynb>data table notebook</a>'\n",
              "            + ' to learn more about interactive tables.';\n",
              "          element.innerHTML = '';\n",
              "          dataTable['output_type'] = 'display_data';\n",
              "          await google.colab.output.renderOutput(dataTable, element);\n",
              "          const docLink = document.createElement('div');\n",
              "          docLink.innerHTML = docLinkHtml;\n",
              "          element.appendChild(docLink);\n",
              "        }\n",
              "      </script>\n",
              "    </div>\n",
              "  </div>\n",
              "  "
            ]
          },
          "metadata": {},
          "execution_count": 5
        }
      ],
      "source": [
        "df.head()"
      ]
    },
    {
      "cell_type": "markdown",
      "metadata": {
        "id": "qaNiHEnh_yiw"
      },
      "source": [
        "Search Stopwords"
      ]
    },
    {
      "cell_type": "code",
      "execution_count": 6,
      "metadata": {
        "colab": {
          "base_uri": "https://localhost:8080/"
        },
        "id": "Zs_iTf6En4lK",
        "outputId": "ee8de817-b194-4a1e-d708-cef3b135722b"
      },
      "outputs": [
        {
          "output_type": "stream",
          "name": "stdout",
          "text": [
            "[nltk_data] Downloading package stopwords to /root/nltk_data...\n",
            "[nltk_data]   Unzipping corpora/stopwords.zip.\n"
          ]
        },
        {
          "output_type": "execute_result",
          "data": {
            "text/plain": [
              "True"
            ]
          },
          "metadata": {},
          "execution_count": 6
        }
      ],
      "source": [
        "import nltk\n",
        "nltk.download('stopwords')"
      ]
    },
    {
      "cell_type": "code",
      "execution_count": 7,
      "metadata": {
        "id": "rgKugjvTipln"
      },
      "outputs": [],
      "source": [
        "from nltk.corpus import stopwords\n",
        "from nltk.stem.porter import PorterStemmer\n",
        "import re\n",
        "ps = PorterStemmer()\n",
        "corpus = []\n",
        "for i in range(0, len(msg)):\n",
        "    review = re.sub('[^a-zA-Z]', ' ', msg['text'][i])\n",
        "    review = review.lower()\n",
        "    review = review.split()\n",
        "    \n",
        "    review = [ps.stem(word) for word in review if not word in stopwords.words('english')]\n",
        "    review = ' '.join(review)\n",
        "    corpus.append(review)"
      ]
    },
    {
      "cell_type": "code",
      "execution_count": 8,
      "metadata": {
        "colab": {
          "base_uri": "https://localhost:8080/"
        },
        "id": "No7h4McLwDq6",
        "outputId": "cbbc6378-3789-4971-a9b2-13ddaef93d97"
      },
      "outputs": [
        {
          "output_type": "execute_result",
          "data": {
            "text/plain": [
              "['hous dem aid even see comey letter jason chaffetz tweet darrel lucu octob subscrib jason chaffetz stump american fork utah imag courtesi michael jolley avail creativ common licens apolog keith olbermann doubt worst person world week fbi director jame comey accord hous democrat aid look like also know second worst person well turn comey sent infam letter announc fbi look email may relat hillari clinton email server rank democrat relev committe hear comey found via tweet one republican committe chairmen know comey notifi republican chairmen democrat rank member hous intellig judiciari oversight committe agenc review email recent discov order see contain classifi inform long letter went oversight committe chairman jason chaffetz set polit world ablaz tweet fbi dir inform fbi learn exist email appear pertin investig case reopen jason chaffetz jasoninthehous octob cours know case comey actual say review email light unrel case know anthoni weiner sext teenag appar littl thing fact matter chaffetz utah republican alreadi vow initi raft investig hillari win least two year worth possibl entir term worth appar chaffetz thought fbi alreadi work result tweet briefli roil nation cooler head realiz dud accord senior hous democrat aid misread letter may least chaffetz sin aid told shareblu boss democrat even know comey letter time found check twitter democrat rank member relev committe receiv comey letter republican chairmen fact democrat rank member receiv chairman oversight govern reform committe jason chaffetz tweet made public let see got right fbi director tell chaffetz gop committe chairmen major develop potenti polit explos investig neither chaffetz colleagu courtesi let democrat counterpart know instead accord aid made find twitter alreadi talk daili ko comey provid advanc notic letter chaffetz republican give time turn spin machin may make good theater noth far even suggest case noth far suggest comey anyth grossli incompet tone deaf suggest howev chaffetz act way make dan burton darrel issa look like model respons bipartisanship even decenc notifi rank member elijah cum someth explos trampl basic standard fair know grant like chaffetz answer sit ridicul republican district anchor provo orem cook partisan vote index r gave mitt romney punish percent vote moreov republican hous leadership given full support chaffetz plan fish expedit mean turn hot light textbook exampl hous becom republican control also second worst person world darrel lucu darrel someth graduat univers north carolina consid journalist old school attempt turn member religi right colleg succeed turn religi right worst nightmar charismat christian unapologet liber desir stand scare silenc increas surviv abus three year marriag may know daili ko christian dem nc follow twitter darrelllucu connect facebook click buy darrel mello yello connect',\n",
              " 'ever get feel life circl roundabout rather head straight line toward intend destin hillari clinton remain big woman campu leafi liber wellesley massachusett everywher els vote like inaugur dress remaind day way miss havisham forev wore wed dress speak great expect hillari rodham overflow year ago first address wellesley graduat class presid colleg inform gather student need debat far could ascertain spokesman kind like democrat primari minu term unknown even seven sister school glad miss adam made clear speak today us us miss rodham told classmat appoint edger bergen charli mccarthi mortim snerd attend bespectacl granni glass award matronli wisdom least john lennon wisdom took issu previou speaker despit becom first win elect seat u senat sinc reconstruct edward brook came critic call empathi goal protestor critic tactic though clinton senior thesi saul alinski lament black power demagogu elitist arrog repress intoler within new left similar word come republican necessit brief rebutt trust rodham iron observ one word ask class rehears want say everyon came said talk trust talk lack trust us way feel other talk trust bust say say feel permeat gener perhap even understood distrust trust bust certainli bust clinton plan certainli even understand peopl distrust whitewat travelg vast conspiraci benghazi miss email clinton found distrust voic friday load compromis road broaden polit horizon distrust american peopl trump edg percent percent question immedi prior novemb elect stood major reason close horizon clinton describ vanquish support embrac lie con altern fact assault truth reason fail explain american peopl chose lie truth histori major among today know well peopl power invent fact attack question mark begin end free societi offer hyperbol like mani peopl emerg hillari clinton embark upon long strang trip high school goldwat girl wellesley colleg republican presid democrat politician clinton drank time place gave degre significantli went idealist cynic comparison two wellesley commenc address show way back lament long leader view polit art possibl challeng practic polit art make appear imposs possibl big woman campu odd woman white hous wonder current station even possibl point ahead ask septemb may ask presid woman famous dub congenit liar bill safir conclud lie mind get stood elect day like find jilt bride wed day inspir danger delus',\n",
              " 'truth might get fire octob tension intellig analyst polit policymak alway honest assess desir result latter often overwhelm former iraq war write lawrenc davidson lawrenc davidson might wonder foreign polici maker repeatedli make bad choic insight might drawn follow analysi action play unit state lesson probabl univers back earli spring georg w bush initi invas iraq one key public reason claim countri dictat saddam hussein verg develop nuclear weapon hide weapon mass destruct real reason went beyond charg includ long rang plan regim chang middl east presid georg w bush vice presid dick cheney receiv oval offic brief cia director georg tenet also present chief staff andi card right white hous photo purpos concentr belief iraq becom hostil nuclear power presid bush close associ accept scenario readili short answer bush want inde need believ rational invad iraq first tri connect saddam hussein attack u though never gave stratagem lack evid made difficult ralli american peopl alreadi fixat afghanistan support war baghdad nuclear weapon gambit prove fruit hard evid charg supposedli reliabl wit person exil anti saddam iraqi mani u govern payrol kept tell bush advis nuclear stori true u leadership cadr whose worldview liter demand mortal danger iraq inform order precipit overthrow saddam will tell tale pend atom weapon strong desir believ tale nuclear iraq lower threshold proof likewis repeat assert assum depend iraqi sourc underpin nationwid u campaign gener fear war fever u alli insist unit nation send weapon inspector scour iraq evid nuclear weapon program well chemic biolog weapon inspector could find convinc evid frustrat bush administr soon forc hand march bush launch invas iraq expect occup countri u inspector would sure find evid nuke least stockpil chemic biolog weapon iraqi inform systemat lie social behavior scienc rescu variou u intellig agenc thoroughli shaken affair today year later director manag still tri sort specif tell get true intellig lie one intellig worker put need help protect us armi snake oil salesmen end cia et al market academ assist ahm chalabi head iraqi nation congress key supplier iraqi defector bogu stori hidden wmd partnership forg offic director nation intellig odni serv coordin center sixteen independ u intellig agenc nation academi scienc engin medicin result collabor perman intellig commun studi board coordin program social behavior scienc research might strengthen nation secur despit effort almost certain social behavior scienc cannot give spi agenc want way detect lie better present standard procedur polygraph test interrog even could might well make differ real problem found liar found believ believ simpli true odni leader seem assert u intellig agenc personnel cannot tell often lie case thousand middl echelon intellig worker desk offic specialist know someth close approach truth know pretti well go place like afghanistan iraq syria libya israel palestin elsewher director nation intellig jame clapper right talk presid barack obama oval offic john brennan nation secur aid present photo credit offic director nation intellig therefor someon feed snake oil usual know howev accur grasp thing often avail superior got appoint accept pre structur worldview differ criterion true analyst listen charl gaukel nation intellig council yet anoth organ act meet ground intellig agenc refer search way avoid get taken lie gaukel declar look truth particularli look truth work might mean certainli tell mean histor mean power broker truth must match fit worldview polit ideolog precept fit work intellig specialist send usual accur assess line polici maker often hit roadblock caus group think ideolog blinker know better attitud hand long sell leadership match want believ peddl anyth imaginari iraqi nuke israel western style democraci saudi arabia indispens alli libya liber countri bashar al assad real roadblock peac syria strateg defens initi sdi aka star war world get colder warmer american exception glori list almost endless sad tale tell us want spend million dollar social behavior scienc research improv assess use intellig forget liar want look antidot narrow minded believ policymak seem abl rise ideolog presumpt class presumpt underpin self confid lead us slipperi slope happen way often mani place sourc shakespear determin past prelud elit play destini free capac break structur way see yet middl echelon specialist keep send rel accur assess ladder power hope spring etern',\n",
              " 'video civilian kill singl us airstrik identifi rate civilian kill american airstrik afghanistan higher us engag activ combat oper photo hellfir missil load onto us militari reaper drone afghanistan staff sgt brian ferguson u air forc bureau abl identifi civilian kill singl us drone strike afghanistan last month biggest loss civilian life one strike sinc attack medecin san frontier hospit msf last octob us claim conduct counter terror strike islam state fighter hit nangarhar provinc missil septemb next day unit nation issu unusu rapid strong statement say strike kill civilian injur other gather hous celebr tribal elder return pilgrimag mecca bureau spoke man name haji rai said owner hous target said peopl kill other injur provid name list bureau abl independ verifi ident die rai son headmast local school among anoth man abdul hakim lost three son attack rai said involv deni us claim member visit hous strike said even speak sort peopl phone let alon receiv hous death amount biggest confirm loss civilian life singl american strike afghanistan sinc attack msf hospit kunduz last octob kill least peopl nangarhar strike us attack kill civilian septemb bureau data indic mani civilian alli soldier kill four american strike afghanistan somalia month septemb pair strike kill eight afghan policemen tarinkot capit urozgan provic us jet reportedli hit polic checkpoint kill one offic return target first respond use tactic known doubl tap strike controversi often hit civilian rescuer us told bureau conduct strike individu fire pose threat afghan forc email directli address alleg afghan policemen kill end month somalia citizen burnt us flag street north central citi galcayo emerg drone attack may unintent kill somali soldier civilian strike occur day one nangarhar somali afghan incid us first deni non combat kill investig strike nangarhar galcayo rate civilian kill american airstrik afghanistan higher us engag activ combat oper name',\n",
              " 'print iranian woman sentenc six year prison iran revolutionari guard search home found notebook contain fiction stori written woman stone death accord eurasia review golrokh ebrahimi irae wife polit prison arash sadeghi serv year prison sentenc human right activist public report intellig unit revolutionari guard came arrest husband raid apart without warrant found draft stori ebrahimi irae written articl state one confisc draft stori stone women death adulteri never publish never present anyon articl state narr follow stori protagonist watch movi stone women islam law adulteri',\n",
              " 'tri time jacki mason voic reason week exclus clip breitbart news jacki discuss loom threat north korea explain presid donald trump could win support hollywood left u need strike first decid bomb whole countri behind everybodi realiz choic thing jacki say except hollywood left get nauseou trump could win left fall love minut bomb better reason jacki explain like transgend toilet jacki also say surpris hollywood celebr support trump strike syrian airfield month infuri say might save live mean anyth save environ climat chang happiest peopl world still jacki say got noth hollywood celeb got tough life countri watch jacki latest clip follow daniel nussbaum twitter dznussbaum',\n",
              " 'pari franc chose idealist tradit candid sunday primari repres socialist parti presidenti elect spring candid beno hamon ran slogan would make franc heart beat best manuel vall former prime minist whose campaign promot polici strong background mr hamon appear wide margin incomplet return show estim percent vote mr vall percent tonight left hold head high look futur mr hamon said address support countri need left modern innov left said mr hamon victori clearest sign yet voter left want break polici presid fran oi holland decemb announc would seek howev mr hamon strong show unlik chang widespread assess candid littl chanc make second round vote gener elect first round gener elect set april runoff may socialist parti deepli divid one measur lack popular enthusiasm rel low number peopl vote two million peopl vote second round primari sunday contrast million second round last presidenti primari left howev much convent wisdom elect go thrown question past week lead candid fran oi fillon repres main parti republican accus pay wife larg sum money work parliamentari aid nepot legal french polit system clear actual work prosecutor special financi malfeas review case franc elector system allow multipl candid run presid first round vote top two go second round mr hamon enter race alreadi crowd left candid includ lenchon far left emmanuel macron independ serv economi minist mr holland govern embrac polici unless decid withdraw mr fillon mainstream right candid also run extrem right candid marin le pen two expect go runoff mr hamon victori attribut least part imag idealist tradit leftist candid appeal union voter well environment concern social liber young peopl unlik mr vall also clearli distanc mr holland unpopular polici especi econom one thoma kekenbosch student one leader group youth beno hamon said mr hamon embodi new hope left perspect someth build mr kekenbosch said mr holland disappoint mani young peopl parti abandon ideal support worker mani voter believ accord mr kekenbosch mr holland govern pressur european union meet budget restraint struggl pass labor code reform make market attract foreign investor also encourag french busi expand franc measur ultim pass week strike water gener littl concret progress improv franc roughli percent unemploy rate nearli percent youth jobless rate mr hamon strongli endors stimulu approach improv economi promis phase univers incom would especi help young peopl look work would also supplement livelihood french worker end goal would everyon receiv euro per month someon trust us mr kekenbosch said say give enough pay studi scholarship spare work mcdonald provision contract year mr hamon advoc phase diesel fuel encourag driver replac vehicl use petroleum product electr one leftist pedigre began earli father work arsen brest citi far west brittani mother work secretari earli member movement young socialist continu work close polit life also work martin aubri mayor lill former socialist parti leader',\n",
              " 'week michael flynn resign nation secur advis seal propos offic outlin way presid trump lift sanction russia mr flynn gone caught lie discuss sanction russian ambassador propos peac plan ukrain russia remain along push michael cohen presid person lawyer deliv document felix h sater busi associ help mr trump scout deal russia ukrainian lawmak tri rise polit opposit movement shape part mr trump former campaign manag paul manafort time mr trump tie russia peopl connect heighten scrutini investig american intellig agenc f b congress associ remain will eager wade effort behind scene mr trump confound democrat republican alik repeat prais russian presid vladimir v putin desir forg allianc noth illeg unoffici effort propos seem tip toward russian interest may set alarm amateur diplomat say goal simpli help settl gruel conflict cost live want help bring peac mr cohen ask propos contain peac plan andrii v artemenko ukrainian lawmak see leader futur ukrain claim evid name compani wire transfer show corrupt ukrainian presid petro poroshenko could help oust mr artemenko said receiv encourag plan top aid mr putin lot peopl call russian agent u agent c agent mr artemenko said find good solut countri talk mr cohen mr sater said spoken mr trump propos experi foreign polici mr cohen one sever trump associ scrutini f b counterintellig examin link russia accord law enforc offici deni illicit connect two other involv effort somewhat question past mr sater plead guilti role stock manipul scheme decad ago involv mafia mr artemenko spent two half year jail kiev earli embezzl charg later drop said polit motiv unclear white hous take propos serious diplomat freelanc infuri ukrainian offici ukrain ambassador unit state valeriy chali said mr artemenko entitl present altern peac plan behalf ukrain foreign govern includ u administr secur confer munich friday mr poroshenko warn west appeas russia american expert say offer russia altern intern agreement ukrain would mistak trump administr sent mix signal conflict ukrain given mr trump prais mr putin john herbst former american ambassador ukrain said fear new presid might eager mend relat russia ukrain expens potenti plan like mr artemenko late januari three men associ propos plan converg loew regenc luxuri hotel park avenu manhattan busi deal made lobbi furnish leather couch martini restaur bar privat confer room upper floor mr cohen live two block street trump park avenu lawyer join trump organ special counsel work mani deal includ tower republ georgia mix martial art ventur star russian fighter consid loyal lieuten mr trump trust fix difficult problem f b review unverifi dossier compil former british intellig agent fund mr trump polit oppon claim mr cohen met russian repres pragu presidenti campaign discuss russia hack democrat target russian offici name report told new york time never met mr cohen mr cohen insist never visit pragu dossier assert fabric mr manafort also investig f b connect russia ukrain mr cohen person connect ukrain marri ukrainian woman work rel establish ethanol busi mr artemenko tall burli arriv manhattan hotel visit washington wife said met first ladi melania trump year ago model career tri meet mr trump attend inaugur visit congress post facebook admir mr trump talk peac plan meet american lawmak enter parliament year former ukrainian presid viktor yanukovych fled moscow amid protest econom align russia corrupt mr manafort instrument get mr yanukovych elect help shape polit bloc sprang oppos new presid mr poroshenko wealthi businessman taken far tougher stanc toward russia accus mr putin want absorb ukrain new russian empir mr artemenko emerg opposit mr manafort nurtur two men never met mr artemenko said enter polit mr artemenko busi ventur middl east real estat deal miami area work agent repres top ukrainian athlet colleagu parliament describ corrupt untrustworthi simpli insignific appear amass consider wealth fashion imag mr trump present ukrain answer rise class nationalist leader west even travel cleveland last summer republican nation convent seiz chanc meet member mr trump campaign time new leader new approach govern countri new principl new negoti intern polit wrote facebook jan time come mr artemenko said saw mr trump opportun advoc plan peac ukrain help advanc polit career essenti plan would requir withdraw russian forc eastern ukrain ukrainian voter would decid referendum whether crimea ukrainian territori seiz russia would leas russia term year ukrainian ambassador mr chali reject leas kind gross violat constitut said written answer question time idea pitch push openli covertli repres russian interest reaction suggest mr artemenko project also includ dissemin kompromat compromis materi purportedli show mr poroshenko closest associ corrupt new govern presum one less hostil russia might take plan mr sater longtim busi associ mr trump connect russia will help mr artemenko propos reach white hous mr trump sought distanc mr sater recent year mr sater sit room right mr trump said deposit realli know look like mr sater work real estat develop deal trump organ least decad even role stock manipul scheme came light mr sater born soviet union grew new york serv execut firm call bayrock group two floor trump organ trump tower later senior advis mr trump said work plan trump tower moscow russian real estat develop recent fall one said come halt mr trump presidenti campaign mr cohen said trump organ receiv letter intent project moscow russian real estat develop time determin project feasibl mr artemenko said mutual friend put touch mr sater help advanc propos mr sater said made sens want stop war number one said number two absolut believ u russia need alli enemi could achiev one stroke would home run speak mr sater mr artemenko person mr cohen said would deliv plan white hous mr cohen said know russian govern offer encourag mr artemenko claim understood promis proof corrupt ukrainian presid fraud never good right mr cohen said said mr sater given written propos seal envelop mr cohen met mr trump oval offic earli februari said left propos mr flynn offic mr cohen said wait respons mr flynn forc post mr cohen mr sater mr artemenko hope new nation secur advis take caus friday presid wrote twitter four new candid job',\n",
              " 'organ action activist group morph barack obama first presidenti campaign partner indivis project onlin train protest presid donald trump agenda last week breitbart news extens report indivis leader openli associ group financ billionair georg soro politico earlier month profil indivis articl titl insid protest movement republican reel news agenc left soro link fail note organ cite articl help amplifi indivis messag either financ directli soro close tie group fund billionair breitbart news document organ action ofa commun organ project sprung obama campaign organ organ america becom nonprofit describ washington post advoc ing presid polici recent facebook post titl take deep breath take action ofa call constitu lobbi particularli hard februari lawmak home district post includ link guid releas indivis organ trump stay tune onlin train invit call coalit partner like indivis guid ofa post state paul sperri write new york post relat manual publish ofa partner indivis advis protest go hall quietli rais alarm grab seat front room sit togeth rather spread pair make seem like whole room oppos republican host posit help reinforc impress broad consensu also urg ask hostil question keep firm hold mic loudli boo gop politician give real answer express concern event host give platform authoritarian racism corrupt say even safest republican deepli alarm sign organ opposit document state action creat impress connect district listen constitu sperri report ofa plan stage ralli across state year attack trump republican obamacar repeal earlier month nbc news report ofa new action partnership indivis ofa hire field organ state home key senat part campaign defend obama signatur healthcar law run campaign group hire saumya narechania former nation field director enrol america work sign peopl obamacar deputi campaign manag ofa say peopl appli spring commun engag fellowship train program previous involv ofa group team indivis buzzi newcom progress movement offer organ train began thursday night video confer combin peopl regist particip train ofa said indivis dc branch implic scuffl last week reportedli injur staffer rep dana rohrabach well reportedli knock ground protest claim deliv valentin day card indivis part coalit activist group slate hold massiv tax march washington least locat april unreport news media list partner support organ march openli financ soro close link soro financ breitbart news document last week meanwhil earlier month politico profil indivis report conserv spread unfound rumor group driven wealthi donor like georg soro politico howev seemingli fail even minim research indivis leader cite news outlet profil person openli associ group financ soro politico fail note organ cite articl help amplifi indivis messag either financ directli soro close tie group fund billionair cite angel padilla group politico report dub indivis group launch way padilla hand fellow aid channel heartbreak manual quash presid donald trump agenda draft protest guid activist full pointer bird dog member congress languag capitol insid manual sinc download one million time indivis say websit local group across nation sign resist trump agenda nearli everi congression district countri manual util form basi protest movement group websit state put guid action show en mass congression district offic event flood congression phone line resist work politico report unfound rumor spread soro involv indivis emphasi ad report hand senior leader count contributor nation organ work insist work volunt basi know conserv spread unfound rumor success driven wealthi donor like georg soro flatli deni paragraph follow follow quot padilla emphasi ad report matter take money alway go get blame soro group even take money soro said padilla analyst nation immigr law center one attack fine indivis yet disclos donor politico fail inform reader nation immigr law center news outlet report padilla serv analyst financ soro open societi foundat center receiv numer open societi grant earmark gener support also unment politico padilla previous serv immigr polici consult radic nation council la raza soro major la raza donor politico went detail indivis aid moveon org aclu news websit fail tell reader moveon org aclu financ soro relev tidbit given politico claim unfound rumor indivis success driven soro news websit report addit moveon org work famili parti join indivis first nationwid call jan nearli peopl phone day accord levin moveon organ director victoria kaplan indivis estim second nation call impact trump immigr order assist aclu padilla group drew peopl politico also miss accord twitter account anoth organ confer call moveon org intern refuge assist project project urban justic center anoth recipi open societi grant taryn higashi execut director center intern refuge assist project current serv advisori board intern migrat initi soro open societi foundat politico report indivis tie organ last month women march fail mention soro reportedli tie partner march also journalist first report march leader close associ soro regard indivis women march politico report indivis also embrac collabor major protest outlet leader group commun women march organ main event jan partnership becom offici march unveil third seri direct action attende ask pursu commun anoth indivis leader mention politico articl jeremi hail report politico hail serv feder advocaci counsel sentenc project sentenc project reportedli financ soro open societi foundat also host project promot caus aaron klein breitbart jerusalem bureau chief senior investig report new york time bestsel author host popular weekend talk radio program aaron klein investig radio follow twitter aaronkleinshow follow facebook',\n",
              " 'bbc produc spoof real housew tv programm comed islam state twist criticis leftist muslim claim sketch offens bbc releas trailer earlier week immedi slam left muslim thought make fun bride member terror group bound convent humour sketch part new programm call revolt written jolyon rubinstein heydon prows accord bbc satiris state nation lololol pic twitter raheem kassam raheemkassam januari bbc facebook page inund critic one user wrote mortifi bbc produc programm simpli bad tast fact comedi make even worri humour associ action isi realli tv licens fund other took differ point view includ muslim say muslim find hilari brilliant satir point highlight pathet ideal pathet group like isi muslim agre sentiment user twitter express much outrag sketch one man bangladeshi said bbc realli made satir show call real housew isi real housew isi rape abus daili bbc realli made satir show call real housew isi real housew isi rape abus daili meraj unclemeraj januari anoth wrote real housew isi make hijabi feel isol n target islamophob thank bbc ad neg stereotyp real housew isi make hijabi feel isol n target islamophob thank bbc ad neg stereotyp ashkaneskittl januari leftist also articul offend public broadcast would dare creat sketch mock islam state question whether use taxpay money via tv licens fee go toward fund programm peopl tv licens countri go toward fund product programm call real housew isi wow cameron edgar cammyyyedgar januari video alreadi view million time facebook social media platform clip show sever women hijab talk hous take selfi show suicid belt one woman even mention come birmingham scrub floor home women join islam state travel syria becom bride becom real problem european countri terror group promis young girl glamor lifestyl eight schoolgirl bethnal green travel syria becom bride islam state fighter age']"
            ]
          },
          "metadata": {},
          "execution_count": 8
        }
      ],
      "source": [
        "corpus[:10]"
      ]
    },
    {
      "cell_type": "markdown",
      "metadata": {
        "id": "bFK1G1F1_kT-"
      },
      "source": [
        "TF-IDF Vectorizer Approach"
      ]
    },
    {
      "cell_type": "code",
      "execution_count": 9,
      "metadata": {
        "id": "NY1VDOFw2skp"
      },
      "outputs": [],
      "source": [
        "vectorizer =TfidfVectorizer(max_features=5000,ngram_range=(1,3))\n",
        "X = vectorizer.fit_transform(corpus).toarray()\n",
        "Y= msg.iloc [:,-1]"
      ]
    },
    {
      "cell_type": "code",
      "execution_count": 10,
      "metadata": {
        "id": "eCKbmsPV7tY5"
      },
      "outputs": [],
      "source": [
        "X_train, X_test,Y_train, Y_test = train_test_split(X, Y, test_size=0.33, random_state=0)"
      ]
    },
    {
      "cell_type": "markdown",
      "metadata": {
        "id": "ZzdatGus_qLd"
      },
      "source": [
        "Generate Confusion Matrix"
      ]
    },
    {
      "cell_type": "code",
      "execution_count": 11,
      "metadata": {
        "id": "iua9MmSq74J-"
      },
      "outputs": [],
      "source": [
        "import matplotlib.pyplot as plt\n",
        "import itertools\n",
        "def plot_confusion_matrix(cm, classes,\n",
        "                          normalize=False,\n",
        "                          title='Confusion matrix',\n",
        "                          cmap=plt.cm.Blues):\n",
        "    \n",
        "    plt.imshow(cm, interpolation='nearest', cmap=cmap)\n",
        "    plt.title(title)\n",
        "    plt.colorbar()\n",
        "    tick_marks = np.arange(len(classes))\n",
        "    plt.xticks(tick_marks, classes, rotation=45)\n",
        "    plt.yticks(tick_marks, classes)\n",
        "\n",
        "    if normalize:\n",
        "        cm = cm.astype('float') / cm.sum(axis=1)[:, np.newaxis]\n",
        "    \n",
        "\n",
        "    thresh = cm.max() / 2.\n",
        "    for i, j in itertools.product(range(cm.shape[0]), range(cm.shape[1])):\n",
        "        plt.text(j, i, cm[i, j],\n",
        "                 horizontalalignment=\"center\",\n",
        "                 color=\"white\" if cm[i, j] > thresh else \"black\")\n",
        "\n",
        "    plt.tight_layout()\n",
        "    plt.ylabel('True label')\n",
        "    plt.xlabel('Predicted label')"
      ]
    },
    {
      "cell_type": "markdown",
      "metadata": {
        "id": "Kqs645gLAdxE"
      },
      "source": [
        "Classifier With Multinomial Naive Bayes"
      ]
    },
    {
      "cell_type": "code",
      "execution_count": 12,
      "metadata": {
        "colab": {
          "base_uri": "https://localhost:8080/",
          "height": 346
        },
        "id": "izepT3AK8MU0",
        "outputId": "a542e0ee-1c87-4c2c-a2a7-abf475efff40"
      },
      "outputs": [
        {
          "output_type": "stream",
          "name": "stdout",
          "text": [
            "accuracy:   0.900\n",
            "MSE : 0.100\n"
          ]
        },
        {
          "output_type": "display_data",
          "data": {
            "text/plain": [
              "<Figure size 432x288 with 2 Axes>"
            ],
            "image/png": "[encoded data removed]"
          },
          "metadata": {
            "needs_background": "light"
          }
        }
      ],
      "source": [
        "from sklearn.naive_bayes import MultinomialNB\n",
        "import itertools\n",
        "classifier=MultinomialNB()\n",
        "\n",
        "classifier.fit(X_train, Y_train)\n",
        "pred = classifier.predict(X_test)\n",
        "score = metrics.accuracy_score(Y_test, pred)\n",
        "print(\"accuracy:   %0.3f\" % score)\n",
        "cm = metrics.confusion_matrix(Y_test, pred)\n",
        "plot_confusion_matrix(cm, classes=['FAKE', 'REAL'])\n",
        "MSE = mean_squared_error(Y_test,pred);\n",
        "print (\"MSE : %0.3f\" % MSE)"
      ]
    },
    {
      "cell_type": "markdown",
      "metadata": {
        "id": "bH3IqSQFAhfZ"
      },
      "source": [
        "Classifier with Support Vector Machine"
      ]
    },
    {
      "cell_type": "code",
      "execution_count": 13,
      "metadata": {
        "colab": {
          "base_uri": "https://localhost:8080/",
          "height": 346
        },
        "id": "QpAWSbTdH2tq",
        "outputId": "4e7a1430-38cc-415d-8316-183ff9b45cbf"
      },
      "outputs": [
        {
          "output_type": "stream",
          "name": "stdout",
          "text": [
            "accuracy:   0.961\n",
            "MSE : 0.039\n"
          ]
        },
        {
          "output_type": "display_data",
          "data": {
            "text/plain": [
              "<Figure size 432x288 with 2 Axes>"
            ],
            "image/png": "[encoded data removed]"
          },
          "metadata": {
            "needs_background": "light"
          }
        }
      ],
      "source": [
        "SVM = svm.SVC().fit(X_train,Y_train)\n",
        "pred = SVM.predict(X_test)\n",
        "score = metrics.accuracy_score(Y_test, pred)\n",
        "print(\"accuracy:   %0.3f\" % score)\n",
        "cm = metrics.confusion_matrix(Y_test, pred)\n",
        "plot_confusion_matrix(cm, classes=['FAKE', 'REAL'])\n",
        "MSE = mean_squared_error(Y_test,pred);\n",
        "print (\"MSE : %0.3f\" % MSE)"
      ]
    }
  ],
  "metadata": {
    "colab": {
      "collapsed_sections": [],
      "name": "Fake News Detection.ipynb",
      "provenance": [],
      "authorship_tag": "ABX9TyOebwNo8sX6R9Xow9t4oKb9",
      "include_colab_link": true
    },
    "kernelspec": {
      "display_name": "Python 3",
      "name": "python3"
    },
    "language_info": {
      "name": "python"
    }
  },
  "nbformat": 4,
  "nbformat_minor": 0
}